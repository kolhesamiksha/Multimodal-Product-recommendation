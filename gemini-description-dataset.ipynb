{
 "cells": [
  {
   "cell_type": "code",
   "execution_count": null,
   "id": "2758047b-5ecd-421a-b358-0447341d26eb",
   "metadata": {},
   "outputs": [],
   "source": [
    "import json\n",
    "import pandas as pd\n",
    "import urllib.request\n",
    "import PIL\n",
    "from IPython.display import Markdown\n",
    "import textwrap"
   ]
  },
  {
   "cell_type": "code",
   "execution_count": null,
   "id": "c996ad5d-88db-477d-860e-678a052aee75",
   "metadata": {},
   "outputs": [],
   "source": [
    "import google.generativeai as genai"
   ]
  },
  {
   "cell_type": "code",
   "execution_count": null,
   "id": "24237b84-603e-445f-89c0-4bcfb1d4b3d2",
   "metadata": {},
   "outputs": [],
   "source": [
    "GOOGLE_API_KEY = \"\"\n",
    "genai.configure(api_key=GOOGLE_API_KEY)\n",
    "model = genai.GenerativeModel(\"gemini-pro-vision\")"
   ]
  },
  {
   "cell_type": "code",
   "execution_count": null,
   "id": "70b110b4-3042-45ae-8085-bdd5e5ca30b0",
   "metadata": {},
   "outputs": [],
   "source": [
    "df = pd.read_csv('pinterest-fashion-dataset.csv')"
   ]
  },
  {
   "cell_type": "code",
   "execution_count": null,
   "id": "a47a838d-3571-4d3a-80c8-1ba9b92043f4",
   "metadata": {},
   "outputs": [],
   "source": [
    "df.iloc[11]['image_url']"
   ]
  },
  {
   "cell_type": "code",
   "execution_count": null,
   "id": "65d697fd-0141-48a4-bd2a-a21735b82b2c",
   "metadata": {},
   "outputs": [],
   "source": [
    "image_url = df['image_url'].iloc[0]"
   ]
  },
  {
   "cell_type": "code",
   "execution_count": null,
   "id": "2c338ca9-14ca-4de7-a10b-f0210bd65fd2",
   "metadata": {
    "tags": []
   },
   "outputs": [],
   "source": [
    "urllib.request.urlretrieve(image_url, \"temp_image.jpg\")  # Download the image\n",
    "image = PIL.Image.open('temp_image.jpg')  # Open the image\n",
    "response = model.generate_content(image)  # Generate response"
   ]
  },
  {
   "cell_type": "code",
   "execution_count": null,
   "id": "21adcdb4-c007-4443-b130-afc620b2d5bf",
   "metadata": {},
   "outputs": [],
   "source": [
    "response.text"
   ]
  },
  {
   "cell_type": "code",
   "execution_count": null,
   "id": "17972358-81ff-42d8-b378-76bc93b40bb3",
   "metadata": {},
   "outputs": [],
   "source": [
    "image = image.convert('RGB')  # Example conversion to RGB format\n",
    "image.save('temp_image.jpeg')"
   ]
  },
  {
   "cell_type": "code",
   "execution_count": null,
   "id": "d20f0f4e-89dd-4d63-b6a5-755fad668475",
   "metadata": {
    "collapsed": true,
    "jupyter": {
     "outputs_hidden": true
    },
    "tags": []
   },
   "outputs": [],
   "source": [
    "image_url = df.iloc[11]['image_url']\n",
    "category = df.iloc[11]['category']\n",
    "response = model.generate_content(\n",
    "        [f\"write a search description for an item from the prespective of customer with categoty:{category} for better filtering and retrieval of an item for an image\", image],\n",
    "        generation_config={\"temperature\": 0}\n",
    "    )\n",
    "response.text"
   ]
  },
  {
   "cell_type": "code",
   "execution_count": null,
   "id": "620dcf21-5475-4432-9836-6101b4fab8ac",
   "metadata": {},
   "outputs": [],
   "source": [
    "def add_description(row):\n",
    "    print(f\"Image URL => {row['image_url']}\")\n",
    "    urllib.request.urlretrieve(row['image_url'], \"temp_image.jpg\")  # Download the image\n",
    "    image = PIL.Image.open('temp_image.jpg')  # Open the image\n",
    "    category = row['category']\n",
    "    response = model.generate_content(\n",
    "        [f\"write a short search description for an item with categoty:{category} for an image, use as much detailing as possible for filtering and personalised recommendation\", image],\n",
    "        generation_config={\"temperature\": 0}\n",
    "    )\n",
    "    print(type(response))\n",
    "    if response.candidates:\n",
    "        # Extract text from each part and concatenate\n",
    "        text_parts = [part.text for part in response.candidates[0].content.parts]\n",
    "        \n",
    "        # Concatenate the text from all parts\n",
    "        concatenated_text = ' '.join(text_parts)\n",
    "        \n",
    "        # Print or use the concatenated_text as needed\n",
    "        print(concatenated_text)\n",
    "        print(\"\")\n",
    "        return concatenated_text\n",
    "    else:\n",
    "        print(\"No candidates in the response.\")\n",
    "        return \"\""
   ]
  },
  {
   "cell_type": "code",
   "execution_count": null,
   "id": "b2693e23-33a8-4b4b-a6bb-59730462ffe4",
   "metadata": {
    "tags": []
   },
   "outputs": [],
   "source": [
    "import time\n",
    "df['image_description'] = df.apply(add_description, axis=1)"
   ]
  },
  {
   "cell_type": "code",
   "execution_count": null,
   "id": "16ace38a-71e3-4fc4-8e89-ef3837c7c726",
   "metadata": {},
   "outputs": [],
   "source": [
    "df"
   ]
  },
  {
   "cell_type": "code",
   "execution_count": null,
   "id": "4f15b887-2498-47b4-9204-309560eebafa",
   "metadata": {},
   "outputs": [],
   "source": [
    "df.iloc[0]['image_url']"
   ]
  },
  {
   "cell_type": "code",
   "execution_count": null,
   "id": "1d504bfe-9496-43ad-8507-9959d65134d1",
   "metadata": {},
   "outputs": [],
   "source": [
    "df['image_description']"
   ]
  },
  {
   "cell_type": "code",
   "execution_count": null,
   "id": "458623c6-31b1-4c61-b3e0-6abd23ef7f5f",
   "metadata": {},
   "outputs": [],
   "source": []
  }
 ],
 "metadata": {
  "kernelspec": {
   "display_name": "Python 3 (ipykernel)",
   "language": "python",
   "name": "python3"
  },
  "language_info": {
   "codemirror_mode": {
    "name": "ipython",
    "version": 3
   },
   "file_extension": ".py",
   "mimetype": "text/x-python",
   "name": "python",
   "nbconvert_exporter": "python",
   "pygments_lexer": "ipython3",
   "version": "3.9.13"
  }
 },
 "nbformat": 4,
 "nbformat_minor": 5
}
